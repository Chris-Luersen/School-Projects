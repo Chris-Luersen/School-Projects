{
  "nbformat": 4,
  "nbformat_minor": 0,
  "metadata": {
    "colab": {
      "name": "Assignment_2.ipynb",
      "provenance": [],
      "toc_visible": true,
      "authorship_tag": "ABX9TyP6U2yYQLQXrI3IZeiISr79",
      "include_colab_link": true
    },
    "kernelspec": {
      "name": "python3",
      "display_name": "Python 3"
    }
  },
  "cells": [
    {
      "cell_type": "markdown",
      "metadata": {
        "id": "view-in-github",
        "colab_type": "text"
      },
      "source": [
        "<a href=\"https://colab.research.google.com/github/Chris-Luersen/School-Projects/blob/main/Assignment_2.ipynb\" target=\"_parent\"><img src=\"https://colab.research.google.com/assets/colab-badge.svg\" alt=\"Open In Colab\"/></a>"
      ]
    },
    {
      "cell_type": "code",
      "metadata": {
        "id": "0J_VKfmjfnRa",
        "colab": {
          "base_uri": "https://localhost:8080/"
        },
        "outputId": "ba5738f5-c39a-4f47-e5fe-00740083ccac"
      },
      "source": [
        "from google.colab import drive\n",
        "drive.mount('/content/drive')"
      ],
      "execution_count": null,
      "outputs": [
        {
          "output_type": "stream",
          "text": [
            "Drive already mounted at /content/drive; to attempt to forcibly remount, call drive.mount(\"/content/drive\", force_remount=True).\n"
          ],
          "name": "stdout"
        }
      ]
    },
    {
      "cell_type": "code",
      "metadata": {
        "id": "rzl2QlaIgFfm"
      },
      "source": [
        "import sys\n",
        "# modify \"customized_path_to_homework\", path of folder in drive, where you uploaded your homework\n",
        "customized_path_to_homework = \"/content/drive/My Drive/urbcomp_fall2020/assignment_2\"\n",
        "sys.path.append(customized_path_to_homework)"
      ],
      "execution_count": null,
      "outputs": []
    },
    {
      "cell_type": "markdown",
      "metadata": {
        "id": "SB7PXr2YUwd5"
      },
      "source": [
        "# Problem 1: Download and process the data\n",
        "Data can be found at https://archive.ics.uci.edu/ml/datasets/Census+Income (adult.data\n",
        "file contain data; adult.names contain attribute information). This database contains\n",
        "information such as age, work class, education, marital status, race, sex etc. Most\n",
        "information is categorical. Hence they need to be converted into dummy variables for\n",
        "usage. This can easily be achieved using the LabelEncoder api in Scikit-Learn. "
      ]
    },
    {
      "cell_type": "markdown",
      "metadata": {
        "id": "FUpiCNCocgtr"
      },
      "source": [
        "## ii. Create a dataset with the following attributes.  \n",
        "> a. Age  \n",
        "b. Work class - convert to dummy variables  \n",
        "c. Education - converted to dummy variables  \n",
        "d. Marital-status - convert to dummy variables  \n",
        "e. Occupation - convert to dummy variables  \n",
        "f. Relationship - convert to dummy variables  \n",
        "g. Race - convert to dummy variables  \n",
        "h. Sex - convert to dummy variables  \n",
        "i. Hours per week  \n",
        "j. Native country - convert to dummy variables  \n",
        "k. Income - convert to dummy variables\n",
        "\n"
      ]
    },
    {
      "cell_type": "code",
      "metadata": {
        "id": "UB2AOiGu72Bi"
      },
      "source": [
        "import pandas as pd\n",
        "import seaborn as sns"
      ],
      "execution_count": null,
      "outputs": []
    },
    {
      "cell_type": "code",
      "metadata": {
        "id": "qCo8x1PntDrw",
        "colab": {
          "base_uri": "https://localhost:8080/",
          "height": 394
        },
        "outputId": "79972c53-40a2-427d-f361-4d9f5aeda11a"
      },
      "source": [
        "names = [\n",
        "    'age',\n",
        "    'workclass',\n",
        "    'fnlwgt',\n",
        "    'education',\n",
        "    'education-num',\n",
        "    'marital-status',\n",
        "    'occupation',\n",
        "    'relationship',\n",
        "    'race',\n",
        "    'sex',\n",
        "    'capital-gain',\n",
        "    'capital-loss',\n",
        "    'hours-per-week',\n",
        "    'native-country',\n",
        "    'income']\n",
        "data = pd.read_csv('/content/drive/My Drive/urbcomp_fall2020/assignment_2/data/adult_data.csv', names=names)\n",
        "data.head()"
      ],
      "execution_count": null,
      "outputs": [
        {
          "output_type": "execute_result",
          "data": {
            "text/html": [
              "<div>\n",
              "<style scoped>\n",
              "    .dataframe tbody tr th:only-of-type {\n",
              "        vertical-align: middle;\n",
              "    }\n",
              "\n",
              "    .dataframe tbody tr th {\n",
              "        vertical-align: top;\n",
              "    }\n",
              "\n",
              "    .dataframe thead th {\n",
              "        text-align: right;\n",
              "    }\n",
              "</style>\n",
              "<table border=\"1\" class=\"dataframe\">\n",
              "  <thead>\n",
              "    <tr style=\"text-align: right;\">\n",
              "      <th></th>\n",
              "      <th>age</th>\n",
              "      <th>workclass</th>\n",
              "      <th>fnlwgt</th>\n",
              "      <th>education</th>\n",
              "      <th>education-num</th>\n",
              "      <th>marital-status</th>\n",
              "      <th>occupation</th>\n",
              "      <th>relationship</th>\n",
              "      <th>race</th>\n",
              "      <th>sex</th>\n",
              "      <th>capital-gain</th>\n",
              "      <th>capital-loss</th>\n",
              "      <th>hours-per-week</th>\n",
              "      <th>native-country</th>\n",
              "      <th>income</th>\n",
              "    </tr>\n",
              "  </thead>\n",
              "  <tbody>\n",
              "    <tr>\n",
              "      <th>0</th>\n",
              "      <td>39</td>\n",
              "      <td>State-gov</td>\n",
              "      <td>77516</td>\n",
              "      <td>Bachelors</td>\n",
              "      <td>13</td>\n",
              "      <td>Never-married</td>\n",
              "      <td>Adm-clerical</td>\n",
              "      <td>Not-in-family</td>\n",
              "      <td>White</td>\n",
              "      <td>Male</td>\n",
              "      <td>2174</td>\n",
              "      <td>0</td>\n",
              "      <td>40</td>\n",
              "      <td>United-States</td>\n",
              "      <td>&lt;=50K</td>\n",
              "    </tr>\n",
              "    <tr>\n",
              "      <th>1</th>\n",
              "      <td>50</td>\n",
              "      <td>Self-emp-not-inc</td>\n",
              "      <td>83311</td>\n",
              "      <td>Bachelors</td>\n",
              "      <td>13</td>\n",
              "      <td>Married-civ-spouse</td>\n",
              "      <td>Exec-managerial</td>\n",
              "      <td>Husband</td>\n",
              "      <td>White</td>\n",
              "      <td>Male</td>\n",
              "      <td>0</td>\n",
              "      <td>0</td>\n",
              "      <td>13</td>\n",
              "      <td>United-States</td>\n",
              "      <td>&lt;=50K</td>\n",
              "    </tr>\n",
              "    <tr>\n",
              "      <th>2</th>\n",
              "      <td>38</td>\n",
              "      <td>Private</td>\n",
              "      <td>215646</td>\n",
              "      <td>HS-grad</td>\n",
              "      <td>9</td>\n",
              "      <td>Divorced</td>\n",
              "      <td>Handlers-cleaners</td>\n",
              "      <td>Not-in-family</td>\n",
              "      <td>White</td>\n",
              "      <td>Male</td>\n",
              "      <td>0</td>\n",
              "      <td>0</td>\n",
              "      <td>40</td>\n",
              "      <td>United-States</td>\n",
              "      <td>&lt;=50K</td>\n",
              "    </tr>\n",
              "    <tr>\n",
              "      <th>3</th>\n",
              "      <td>53</td>\n",
              "      <td>Private</td>\n",
              "      <td>234721</td>\n",
              "      <td>11th</td>\n",
              "      <td>7</td>\n",
              "      <td>Married-civ-spouse</td>\n",
              "      <td>Handlers-cleaners</td>\n",
              "      <td>Husband</td>\n",
              "      <td>Black</td>\n",
              "      <td>Male</td>\n",
              "      <td>0</td>\n",
              "      <td>0</td>\n",
              "      <td>40</td>\n",
              "      <td>United-States</td>\n",
              "      <td>&lt;=50K</td>\n",
              "    </tr>\n",
              "    <tr>\n",
              "      <th>4</th>\n",
              "      <td>28</td>\n",
              "      <td>Private</td>\n",
              "      <td>338409</td>\n",
              "      <td>Bachelors</td>\n",
              "      <td>13</td>\n",
              "      <td>Married-civ-spouse</td>\n",
              "      <td>Prof-specialty</td>\n",
              "      <td>Wife</td>\n",
              "      <td>Black</td>\n",
              "      <td>Female</td>\n",
              "      <td>0</td>\n",
              "      <td>0</td>\n",
              "      <td>40</td>\n",
              "      <td>Cuba</td>\n",
              "      <td>&lt;=50K</td>\n",
              "    </tr>\n",
              "  </tbody>\n",
              "</table>\n",
              "</div>"
            ],
            "text/plain": [
              "   age          workclass  fnlwgt  ... hours-per-week  native-country  income\n",
              "0   39          State-gov   77516  ...             40   United-States   <=50K\n",
              "1   50   Self-emp-not-inc   83311  ...             13   United-States   <=50K\n",
              "2   38            Private  215646  ...             40   United-States   <=50K\n",
              "3   53            Private  234721  ...             40   United-States   <=50K\n",
              "4   28            Private  338409  ...             40            Cuba   <=50K\n",
              "\n",
              "[5 rows x 15 columns]"
            ]
          },
          "metadata": {
            "tags": []
          },
          "execution_count": 42
        }
      ]
    },
    {
      "cell_type": "markdown",
      "metadata": {
        "id": "DwJDnVsUcq2k"
      },
      "source": [
        "##i. Sample 10000 random records from the above database. \n"
      ]
    },
    {
      "cell_type": "code",
      "metadata": {
        "id": "uhN0RQV23jPO"
      },
      "source": [
        "data = data[:10001]"
      ],
      "execution_count": null,
      "outputs": []
    },
    {
      "cell_type": "markdown",
      "metadata": {
        "id": "NzplsiJVpxgE"
      },
      "source": [
        "##iii. Save the dataset as a CSV file.\n",
        "The first line of the CSV file should be the attribute names as described in the previous question. "
      ]
    },
    {
      "cell_type": "code",
      "metadata": {
        "id": "poYj3xzMJ-uu",
        "colab": {
          "base_uri": "https://localhost:8080/",
          "height": 17
        },
        "outputId": "1278b3ab-3ced-4906-b023-7491e46bf64b"
      },
      "source": [
        "from google.colab import files\n",
        "data.to_csv('assignment_2_data.csv') \n",
        "files.download(\"assignment_2_data.csv\")"
      ],
      "execution_count": null,
      "outputs": [
        {
          "output_type": "display_data",
          "data": {
            "application/javascript": [
              "\n",
              "    async function download(id, filename, size) {\n",
              "      if (!google.colab.kernel.accessAllowed) {\n",
              "        return;\n",
              "      }\n",
              "      const div = document.createElement('div');\n",
              "      const label = document.createElement('label');\n",
              "      label.textContent = `Downloading \"${filename}\": `;\n",
              "      div.appendChild(label);\n",
              "      const progress = document.createElement('progress');\n",
              "      progress.max = size;\n",
              "      div.appendChild(progress);\n",
              "      document.body.appendChild(div);\n",
              "\n",
              "      const buffers = [];\n",
              "      let downloaded = 0;\n",
              "\n",
              "      const channel = await google.colab.kernel.comms.open(id);\n",
              "      // Send a message to notify the kernel that we're ready.\n",
              "      channel.send({})\n",
              "\n",
              "      for await (const message of channel.messages) {\n",
              "        // Send a message to notify the kernel that we're ready.\n",
              "        channel.send({})\n",
              "        if (message.buffers) {\n",
              "          for (const buffer of message.buffers) {\n",
              "            buffers.push(buffer);\n",
              "            downloaded += buffer.byteLength;\n",
              "            progress.value = downloaded;\n",
              "          }\n",
              "        }\n",
              "      }\n",
              "      const blob = new Blob(buffers, {type: 'application/binary'});\n",
              "      const a = document.createElement('a');\n",
              "      a.href = window.URL.createObjectURL(blob);\n",
              "      a.download = filename;\n",
              "      div.appendChild(a);\n",
              "      a.click();\n",
              "      div.remove();\n",
              "    }\n",
              "  "
            ],
            "text/plain": [
              "<IPython.core.display.Javascript object>"
            ]
          },
          "metadata": {
            "tags": []
          }
        },
        {
          "output_type": "display_data",
          "data": {
            "application/javascript": [
              "download(\"download_5c32b3c1-528d-4303-9c65-f9787ff5f28e\", \"assignment_2_data.csv\", 1218769)"
            ],
            "text/plain": [
              "<IPython.core.display.Javascript object>"
            ]
          },
          "metadata": {
            "tags": []
          }
        }
      ]
    },
    {
      "cell_type": "markdown",
      "metadata": {
        "id": "nHficCYdp1j_"
      },
      "source": [
        "##iv. Plot the frequency of some of the attributes in question ii. relative to Income"
      ]
    },
    {
      "cell_type": "code",
      "metadata": {
        "id": "w-E9d-4OOZtD",
        "colab": {
          "base_uri": "https://localhost:8080/",
          "height": 299
        },
        "outputId": "ac0cd52f-e92a-423b-ee70-3a2069c99f4d"
      },
      "source": [
        "sns.countplot(y='age', hue='income', data=data) "
      ],
      "execution_count": null,
      "outputs": [
        {
          "output_type": "execute_result",
          "data": {
            "text/plain": [
              "<matplotlib.axes._subplots.AxesSubplot at 0x7f854c85fa58>"
            ]
          },
          "metadata": {
            "tags": []
          },
          "execution_count": 45
        },
        {
          "output_type": "display_data",
          "data": {
            "image/png": "[encoded data removed]",
            "text/plain": [
              "<Figure size 432x288 with 1 Axes>"
            ]
          },
          "metadata": {
            "tags": [],
            "needs_background": "light"
          }
        }
      ]
    },
    {
      "cell_type": "code",
      "metadata": {
        "id": "qAFeJLXFNPeB",
        "colab": {
          "base_uri": "https://localhost:8080/",
          "height": 296
        },
        "outputId": "1e43246d-a07f-4d42-aa58-80bdcf14bce5"
      },
      "source": [
        "sns.countplot(y='education', hue='income', data=data) "
      ],
      "execution_count": null,
      "outputs": [
        {
          "output_type": "execute_result",
          "data": {
            "text/plain": [
              "<matplotlib.axes._subplots.AxesSubplot at 0x7f854c63a198>"
            ]
          },
          "metadata": {
            "tags": []
          },
          "execution_count": 46
        },
        {
          "output_type": "display_data",
          "data": {
            "image/png": "[encoded data removed]",
            "text/plain": [
              "<Figure size 432x288 with 1 Axes>"
            ]
          },
          "metadata": {
            "tags": [],
            "needs_background": "light"
          }
        }
      ]
    },
    {
      "cell_type": "code",
      "metadata": {
        "id": "h-keq4XFiCZT",
        "colab": {
          "base_uri": "https://localhost:8080/",
          "height": 296
        },
        "outputId": "ebec2166-ffbe-49d3-bef3-546f9ca78a3e"
      },
      "source": [
        "sns.countplot(y='occupation', hue='income', data=data) "
      ],
      "execution_count": null,
      "outputs": [
        {
          "output_type": "execute_result",
          "data": {
            "text/plain": [
              "<matplotlib.axes._subplots.AxesSubplot at 0x7f854c8c3da0>"
            ]
          },
          "metadata": {
            "tags": []
          },
          "execution_count": 47
        },
        {
          "output_type": "display_data",
          "data": {
            "image/png": "[encoded data removed]",
            "text/plain": [
              "<Figure size 432x288 with 1 Axes>"
            ]
          },
          "metadata": {
            "tags": [],
            "needs_background": "light"
          }
        }
      ]
    },
    {
      "cell_type": "code",
      "metadata": {
        "id": "-s77ggM4N3US",
        "colab": {
          "base_uri": "https://localhost:8080/",
          "height": 296
        },
        "outputId": "68046751-6443-4931-cf41-fe153cb759d6"
      },
      "source": [
        "sns.countplot(y='race', hue='income', data=data) "
      ],
      "execution_count": null,
      "outputs": [
        {
          "output_type": "execute_result",
          "data": {
            "text/plain": [
              "<matplotlib.axes._subplots.AxesSubplot at 0x7f854c465cc0>"
            ]
          },
          "metadata": {
            "tags": []
          },
          "execution_count": 48
        },
        {
          "output_type": "display_data",
          "data": {
            "image/png": "[encoded data removed]",
            "text/plain": [
              "<Figure size 432x288 with 1 Axes>"
            ]
          },
          "metadata": {
            "tags": [],
            "needs_background": "light"
          }
        }
      ]
    },
    {
      "cell_type": "code",
      "metadata": {
        "id": "5l6IVgBBOWPP",
        "colab": {
          "base_uri": "https://localhost:8080/",
          "height": 296
        },
        "outputId": "c9684b0f-be1b-4225-d6de-6d6d200c6194"
      },
      "source": [
        "sns.countplot(y='sex', hue='income', data=data) "
      ],
      "execution_count": null,
      "outputs": [
        {
          "output_type": "execute_result",
          "data": {
            "text/plain": [
              "<matplotlib.axes._subplots.AxesSubplot at 0x7f854c6845f8>"
            ]
          },
          "metadata": {
            "tags": []
          },
          "execution_count": 49
        },
        {
          "output_type": "display_data",
          "data": {
            "image/png": "[encoded data removed]",
            "text/plain": [
              "<Figure size 432x288 with 1 Axes>"
            ]
          },
          "metadata": {
            "tags": [],
            "needs_background": "light"
          }
        }
      ]
    },
    {
      "cell_type": "markdown",
      "metadata": {
        "id": "tgWiTzV-eZ0H"
      },
      "source": [
        "##Dummy Variable Set-Up"
      ]
    },
    {
      "cell_type": "code",
      "metadata": {
        "id": "2Q-cfQuSeeue"
      },
      "source": [
        "from sklearn.preprocessing import LabelEncoder"
      ],
      "execution_count": null,
      "outputs": []
    },
    {
      "cell_type": "code",
      "metadata": {
        "id": "b0CD3DzpfJah",
        "colab": {
          "base_uri": "https://localhost:8080/",
          "height": 390
        },
        "outputId": "007b8271-fb26-4a8c-c4ea-3bebc6d956bf"
      },
      "source": [
        "lb_make = LabelEncoder()\n",
        "data[\"marital-status-code\"] = lb_make.fit_transform(data['marital-status'])\n",
        "data[[\"marital-status\", \"marital-status-code\"]].head(11)"
      ],
      "execution_count": null,
      "outputs": [
        {
          "output_type": "execute_result",
          "data": {
            "text/html": [
              "<div>\n",
              "<style scoped>\n",
              "    .dataframe tbody tr th:only-of-type {\n",
              "        vertical-align: middle;\n",
              "    }\n",
              "\n",
              "    .dataframe tbody tr th {\n",
              "        vertical-align: top;\n",
              "    }\n",
              "\n",
              "    .dataframe thead th {\n",
              "        text-align: right;\n",
              "    }\n",
              "</style>\n",
              "<table border=\"1\" class=\"dataframe\">\n",
              "  <thead>\n",
              "    <tr style=\"text-align: right;\">\n",
              "      <th></th>\n",
              "      <th>marital-status</th>\n",
              "      <th>marital-status-code</th>\n",
              "    </tr>\n",
              "  </thead>\n",
              "  <tbody>\n",
              "    <tr>\n",
              "      <th>0</th>\n",
              "      <td>Never-married</td>\n",
              "      <td>4</td>\n",
              "    </tr>\n",
              "    <tr>\n",
              "      <th>1</th>\n",
              "      <td>Married-civ-spouse</td>\n",
              "      <td>2</td>\n",
              "    </tr>\n",
              "    <tr>\n",
              "      <th>2</th>\n",
              "      <td>Divorced</td>\n",
              "      <td>0</td>\n",
              "    </tr>\n",
              "    <tr>\n",
              "      <th>3</th>\n",
              "      <td>Married-civ-spouse</td>\n",
              "      <td>2</td>\n",
              "    </tr>\n",
              "    <tr>\n",
              "      <th>4</th>\n",
              "      <td>Married-civ-spouse</td>\n",
              "      <td>2</td>\n",
              "    </tr>\n",
              "    <tr>\n",
              "      <th>5</th>\n",
              "      <td>Married-civ-spouse</td>\n",
              "      <td>2</td>\n",
              "    </tr>\n",
              "    <tr>\n",
              "      <th>6</th>\n",
              "      <td>Married-spouse-absent</td>\n",
              "      <td>3</td>\n",
              "    </tr>\n",
              "    <tr>\n",
              "      <th>7</th>\n",
              "      <td>Married-civ-spouse</td>\n",
              "      <td>2</td>\n",
              "    </tr>\n",
              "    <tr>\n",
              "      <th>8</th>\n",
              "      <td>Never-married</td>\n",
              "      <td>4</td>\n",
              "    </tr>\n",
              "    <tr>\n",
              "      <th>9</th>\n",
              "      <td>Married-civ-spouse</td>\n",
              "      <td>2</td>\n",
              "    </tr>\n",
              "    <tr>\n",
              "      <th>10</th>\n",
              "      <td>Married-civ-spouse</td>\n",
              "      <td>2</td>\n",
              "    </tr>\n",
              "  </tbody>\n",
              "</table>\n",
              "</div>"
            ],
            "text/plain": [
              "            marital-status  marital-status-code\n",
              "0            Never-married                    4\n",
              "1       Married-civ-spouse                    2\n",
              "2                 Divorced                    0\n",
              "3       Married-civ-spouse                    2\n",
              "4       Married-civ-spouse                    2\n",
              "5       Married-civ-spouse                    2\n",
              "6    Married-spouse-absent                    3\n",
              "7       Married-civ-spouse                    2\n",
              "8            Never-married                    4\n",
              "9       Married-civ-spouse                    2\n",
              "10      Married-civ-spouse                    2"
            ]
          },
          "metadata": {
            "tags": []
          },
          "execution_count": 51
        }
      ]
    },
    {
      "cell_type": "code",
      "metadata": {
        "id": "qVebIA60f3le"
      },
      "source": [
        "data[\"workclass-code\"] = lb_make.fit_transform(data['workclass'])\n",
        "data[\"education-code\"] = lb_make.fit_transform(data['education'])\n",
        "data[\"occupation-code\"] = lb_make.fit_transform(data['occupation'])\n",
        "data[\"relationship-code\"] = lb_make.fit_transform(data['relationship'])\n",
        "data[\"race-code\"] = lb_make.fit_transform(data['race'])\n",
        "data[\"sex-code\"] = lb_make.fit_transform(data['sex'])\n",
        "data[\"income-code\"] = lb_make.fit_transform(data['income'])"
      ],
      "execution_count": null,
      "outputs": []
    },
    {
      "cell_type": "code",
      "metadata": {
        "id": "e6nc_AVfgM2J"
      },
      "source": [
        "data[\"native-country-code\"] = lb_make.fit_transform(data['native-country'])"
      ],
      "execution_count": null,
      "outputs": []
    },
    {
      "cell_type": "code",
      "metadata": {
        "id": "CUv9X-StgX6v"
      },
      "source": [
        "data.drop(columns=['workclass','fnlwgt','education','education-num','marital-status','occupation','relationship','race','sex','native-country'],inplace=True)"
      ],
      "execution_count": null,
      "outputs": []
    },
    {
      "cell_type": "code",
      "metadata": {
        "id": "LWweIj6ogtuG",
        "colab": {
          "base_uri": "https://localhost:8080/",
          "height": 258
        },
        "outputId": "d22030e9-0a24-4e31-af4b-e1a79e3c0ab6"
      },
      "source": [
        "data.head()"
      ],
      "execution_count": null,
      "outputs": [
        {
          "output_type": "execute_result",
          "data": {
            "text/html": [
              "<div>\n",
              "<style scoped>\n",
              "    .dataframe tbody tr th:only-of-type {\n",
              "        vertical-align: middle;\n",
              "    }\n",
              "\n",
              "    .dataframe tbody tr th {\n",
              "        vertical-align: top;\n",
              "    }\n",
              "\n",
              "    .dataframe thead th {\n",
              "        text-align: right;\n",
              "    }\n",
              "</style>\n",
              "<table border=\"1\" class=\"dataframe\">\n",
              "  <thead>\n",
              "    <tr style=\"text-align: right;\">\n",
              "      <th></th>\n",
              "      <th>age</th>\n",
              "      <th>capital-gain</th>\n",
              "      <th>capital-loss</th>\n",
              "      <th>hours-per-week</th>\n",
              "      <th>income</th>\n",
              "      <th>marital-status-code</th>\n",
              "      <th>workclass-code</th>\n",
              "      <th>education-code</th>\n",
              "      <th>occupation-code</th>\n",
              "      <th>relationship-code</th>\n",
              "      <th>race-code</th>\n",
              "      <th>sex-code</th>\n",
              "      <th>income-code</th>\n",
              "      <th>native-country-code</th>\n",
              "    </tr>\n",
              "  </thead>\n",
              "  <tbody>\n",
              "    <tr>\n",
              "      <th>0</th>\n",
              "      <td>39</td>\n",
              "      <td>2174</td>\n",
              "      <td>0</td>\n",
              "      <td>40</td>\n",
              "      <td>&lt;=50K</td>\n",
              "      <td>4</td>\n",
              "      <td>7</td>\n",
              "      <td>9</td>\n",
              "      <td>1</td>\n",
              "      <td>1</td>\n",
              "      <td>4</td>\n",
              "      <td>1</td>\n",
              "      <td>0</td>\n",
              "      <td>38</td>\n",
              "    </tr>\n",
              "    <tr>\n",
              "      <th>1</th>\n",
              "      <td>50</td>\n",
              "      <td>0</td>\n",
              "      <td>0</td>\n",
              "      <td>13</td>\n",
              "      <td>&lt;=50K</td>\n",
              "      <td>2</td>\n",
              "      <td>6</td>\n",
              "      <td>9</td>\n",
              "      <td>4</td>\n",
              "      <td>0</td>\n",
              "      <td>4</td>\n",
              "      <td>1</td>\n",
              "      <td>0</td>\n",
              "      <td>38</td>\n",
              "    </tr>\n",
              "    <tr>\n",
              "      <th>2</th>\n",
              "      <td>38</td>\n",
              "      <td>0</td>\n",
              "      <td>0</td>\n",
              "      <td>40</td>\n",
              "      <td>&lt;=50K</td>\n",
              "      <td>0</td>\n",
              "      <td>4</td>\n",
              "      <td>11</td>\n",
              "      <td>6</td>\n",
              "      <td>1</td>\n",
              "      <td>4</td>\n",
              "      <td>1</td>\n",
              "      <td>0</td>\n",
              "      <td>38</td>\n",
              "    </tr>\n",
              "    <tr>\n",
              "      <th>3</th>\n",
              "      <td>53</td>\n",
              "      <td>0</td>\n",
              "      <td>0</td>\n",
              "      <td>40</td>\n",
              "      <td>&lt;=50K</td>\n",
              "      <td>2</td>\n",
              "      <td>4</td>\n",
              "      <td>1</td>\n",
              "      <td>6</td>\n",
              "      <td>0</td>\n",
              "      <td>2</td>\n",
              "      <td>1</td>\n",
              "      <td>0</td>\n",
              "      <td>38</td>\n",
              "    </tr>\n",
              "    <tr>\n",
              "      <th>4</th>\n",
              "      <td>28</td>\n",
              "      <td>0</td>\n",
              "      <td>0</td>\n",
              "      <td>40</td>\n",
              "      <td>&lt;=50K</td>\n",
              "      <td>2</td>\n",
              "      <td>4</td>\n",
              "      <td>9</td>\n",
              "      <td>10</td>\n",
              "      <td>5</td>\n",
              "      <td>2</td>\n",
              "      <td>0</td>\n",
              "      <td>0</td>\n",
              "      <td>5</td>\n",
              "    </tr>\n",
              "  </tbody>\n",
              "</table>\n",
              "</div>"
            ],
            "text/plain": [
              "   age  capital-gain  capital-loss  ...  sex-code income-code  native-country-code\n",
              "0   39          2174             0  ...         1           0                   38\n",
              "1   50             0             0  ...         1           0                   38\n",
              "2   38             0             0  ...         1           0                   38\n",
              "3   53             0             0  ...         1           0                   38\n",
              "4   28             0             0  ...         0           0                    5\n",
              "\n",
              "[5 rows x 14 columns]"
            ]
          },
          "metadata": {
            "tags": []
          },
          "execution_count": 55
        }
      ]
    },
    {
      "cell_type": "code",
      "metadata": {
        "id": "dn955eZ5hCzK"
      },
      "source": [
        "data.drop(columns=['income','capital-gain','capital-loss'],inplace=True)"
      ],
      "execution_count": null,
      "outputs": []
    },
    {
      "cell_type": "markdown",
      "metadata": {
        "id": "QlHIy30gVG27"
      },
      "source": [
        "# Problem 2: Classify if an individual makes over 50k per year \n",
        "i. Use Naive-Bayes, Logistic regression and Decision tree classifiers to check if an individual makes over 50k per year.   "
      ]
    },
    {
      "cell_type": "code",
      "metadata": {
        "id": "zCZ5T2zOhNPu"
      },
      "source": [
        "from sklearn.model_selection import train_test_split"
      ],
      "execution_count": null,
      "outputs": []
    },
    {
      "cell_type": "markdown",
      "metadata": {
        "id": "0vv0BAoNkr_D"
      },
      "source": [
        "a. From question 1.i, use a, b, c, d, e, f, g, h, i, j as features. You can vary them to improve model accuracy. "
      ]
    },
    {
      "cell_type": "code",
      "metadata": {
        "id": "KGNExy_jhWKq"
      },
      "source": [
        "X = data[['age','hours-per-week','marital-status-code','workclass-code','education-code','occupation-code','relationship-code','race-code','sex-code','native-country-code']].values\n",
        "y = data[['income-code']].values"
      ],
      "execution_count": null,
      "outputs": []
    },
    {
      "cell_type": "markdown",
      "metadata": {
        "id": "bJYPuTwekwbj"
      },
      "source": [
        "b. From question 1.i, use k as target class.  "
      ]
    },
    {
      "cell_type": "code",
      "metadata": {
        "id": "V7vkwx-sjVst"
      },
      "source": [
        "X_train, X_test, y_train, y_test = train_test_split(X,y,random_state=42)"
      ],
      "execution_count": null,
      "outputs": []
    },
    {
      "cell_type": "markdown",
      "metadata": {
        "id": "jYMgYEQFmKzy"
      },
      "source": [
        "d. Report precision, recall and F-score of the classification.   "
      ]
    },
    {
      "cell_type": "code",
      "metadata": {
        "id": "AKxnk_TPjxDe"
      },
      "source": [
        "from sklearn.model_selection import KFold\n",
        "from sklearn.naive_bayes import GaussianNB\n",
        "from sklearn.metrics import accuracy_score\n",
        "from sklearn.metrics import classification_report"
      ],
      "execution_count": null,
      "outputs": []
    },
    {
      "cell_type": "markdown",
      "metadata": {
        "id": "HCcVj2bvk1FE"
      },
      "source": [
        "c. Run 5 fold cross validation to evaluate your model.  \n"
      ]
    },
    {
      "cell_type": "code",
      "metadata": {
        "id": "dWJA4iBxkDHB"
      },
      "source": [
        "kf = KFold(n_splits=5)"
      ],
      "execution_count": null,
      "outputs": []
    },
    {
      "cell_type": "code",
      "metadata": {
        "id": "yRHlih-fkHwu",
        "colab": {
          "base_uri": "https://localhost:8080/"
        },
        "outputId": "a3f1419c-fcec-45a1-ffe3-ef2fd7528f60"
      },
      "source": [
        "kf.split(X)"
      ],
      "execution_count": null,
      "outputs": [
        {
          "output_type": "execute_result",
          "data": {
            "text/plain": [
              "<generator object _BaseKFold.split at 0x7f854c3f7938>"
            ]
          },
          "metadata": {
            "tags": []
          },
          "execution_count": 62
        }
      ]
    },
    {
      "cell_type": "markdown",
      "metadata": {
        "id": "fzC6X79YrNni"
      },
      "source": [
        "##Naive-Bayes "
      ]
    },
    {
      "cell_type": "code",
      "metadata": {
        "id": "ePgbGgiHqjZG",
        "colab": {
          "base_uri": "https://localhost:8080/"
        },
        "outputId": "b6bfa7c1-0118-473e-b34a-eb1e8beff1b8"
      },
      "source": [
        "for train_index, test_index in kf.split(X):\n",
        "  X_train, X_test = X[train_index], X[test_index]\n",
        "  y_train, y_test = y[train_index], y[test_index]\n",
        "  model = GaussianNB()\n",
        "  model.fit(X_train,y_train[:,0])\n",
        "  print(classification_report(y_test,model.predict(X_test)))"
      ],
      "execution_count": null,
      "outputs": [
        {
          "output_type": "stream",
          "text": [
            "              precision    recall  f1-score   support\n",
            "\n",
            "           0       0.87      0.79      0.83      1502\n",
            "           1       0.50      0.65      0.57       499\n",
            "\n",
            "    accuracy                           0.75      2001\n",
            "   macro avg       0.69      0.72      0.70      2001\n",
            "weighted avg       0.78      0.75      0.76      2001\n",
            "\n",
            "              precision    recall  f1-score   support\n",
            "\n",
            "           0       0.89      0.79      0.84      1515\n",
            "           1       0.52      0.71      0.60       485\n",
            "\n",
            "    accuracy                           0.77      2000\n",
            "   macro avg       0.71      0.75      0.72      2000\n",
            "weighted avg       0.80      0.77      0.78      2000\n",
            "\n",
            "              precision    recall  f1-score   support\n",
            "\n",
            "           0       0.89      0.79      0.83      1529\n",
            "           1       0.49      0.67      0.57       471\n",
            "\n",
            "    accuracy                           0.76      2000\n",
            "   macro avg       0.69      0.73      0.70      2000\n",
            "weighted avg       0.79      0.76      0.77      2000\n",
            "\n",
            "              precision    recall  f1-score   support\n",
            "\n",
            "           0       0.89      0.78      0.83      1542\n",
            "           1       0.48      0.69      0.56       458\n",
            "\n",
            "    accuracy                           0.76      2000\n",
            "   macro avg       0.69      0.73      0.70      2000\n",
            "weighted avg       0.80      0.76      0.77      2000\n",
            "\n",
            "              precision    recall  f1-score   support\n",
            "\n",
            "           0       0.89      0.80      0.84      1534\n",
            "           1       0.51      0.68      0.58       466\n",
            "\n",
            "    accuracy                           0.77      2000\n",
            "   macro avg       0.70      0.74      0.71      2000\n",
            "weighted avg       0.80      0.77      0.78      2000\n",
            "\n"
          ],
          "name": "stdout"
        }
      ]
    },
    {
      "cell_type": "markdown",
      "metadata": {
        "id": "bxUT14Vfraux"
      },
      "source": [
        "##Logistic regression"
      ]
    },
    {
      "cell_type": "code",
      "metadata": {
        "id": "AfyxxETTofox"
      },
      "source": [
        "from sklearn.linear_model import LogisticRegression"
      ],
      "execution_count": null,
      "outputs": []
    },
    {
      "cell_type": "code",
      "metadata": {
        "id": "X5PAJRcBrR1M",
        "colab": {
          "base_uri": "https://localhost:8080/"
        },
        "outputId": "bb4ce698-aa32-4a0a-d222-bfd150062d9b"
      },
      "source": [
        "for train_index, test_index in kf.split(X):\n",
        "  X_train, X_test = X[train_index], X[test_index]\n",
        "  y_train, y_test = y[train_index], y[test_index]\n",
        "  model = LogisticRegression(solver='lbfgs', max_iter=1000)\n",
        "  model.fit(X_train,y_train[:,0])\n",
        "  print(classification_report(y_test,model.predict(X_test)))"
      ],
      "execution_count": null,
      "outputs": [
        {
          "output_type": "stream",
          "text": [
            "              precision    recall  f1-score   support\n",
            "\n",
            "           0       0.77      0.95      0.85      1502\n",
            "           1       0.50      0.16      0.24       499\n",
            "\n",
            "    accuracy                           0.75      2001\n",
            "   macro avg       0.64      0.55      0.55      2001\n",
            "weighted avg       0.70      0.75      0.70      2001\n",
            "\n",
            "              precision    recall  f1-score   support\n",
            "\n",
            "           0       0.78      0.96      0.86      1515\n",
            "           1       0.56      0.16      0.25       485\n",
            "\n",
            "    accuracy                           0.77      2000\n",
            "   macro avg       0.67      0.56      0.56      2000\n",
            "weighted avg       0.73      0.77      0.71      2000\n",
            "\n",
            "              precision    recall  f1-score   support\n",
            "\n",
            "           0       0.79      0.95      0.86      1529\n",
            "           1       0.48      0.16      0.24       471\n",
            "\n",
            "    accuracy                           0.76      2000\n",
            "   macro avg       0.63      0.55      0.55      2000\n",
            "weighted avg       0.71      0.76      0.71      2000\n",
            "\n",
            "              precision    recall  f1-score   support\n",
            "\n",
            "           0       0.79      0.93      0.86      1542\n",
            "           1       0.45      0.18      0.26       458\n",
            "\n",
            "    accuracy                           0.76      2000\n",
            "   macro avg       0.62      0.56      0.56      2000\n",
            "weighted avg       0.71      0.76      0.72      2000\n",
            "\n",
            "              precision    recall  f1-score   support\n",
            "\n",
            "           0       0.79      0.95      0.86      1534\n",
            "           1       0.50      0.16      0.24       466\n",
            "\n",
            "    accuracy                           0.77      2000\n",
            "   macro avg       0.64      0.56      0.55      2000\n",
            "weighted avg       0.72      0.77      0.72      2000\n",
            "\n"
          ],
          "name": "stdout"
        }
      ]
    },
    {
      "cell_type": "markdown",
      "metadata": {
        "id": "drO6PVc4rdda"
      },
      "source": [
        "##Decision tree classifiers"
      ]
    },
    {
      "cell_type": "code",
      "metadata": {
        "id": "5RqB9ow8pcMe"
      },
      "source": [
        "from sklearn.tree import DecisionTreeClassifier"
      ],
      "execution_count": null,
      "outputs": []
    },
    {
      "cell_type": "code",
      "metadata": {
        "id": "KpXaDhCjrf6U",
        "colab": {
          "base_uri": "https://localhost:8080/"
        },
        "outputId": "8123af70-8356-4e1c-8c22-f0266e5cd064"
      },
      "source": [
        "for train_index, test_index in kf.split(X):\n",
        "  X_train, X_test = X[train_index], X[test_index]\n",
        "  y_train, y_test = y[train_index], y[test_index]\n",
        "  model = DecisionTreeClassifier()\n",
        "  model.fit(X_train,y_train[:,0])\n",
        "  print(classification_report(y_test,model.predict(X_test)))"
      ],
      "execution_count": null,
      "outputs": [
        {
          "output_type": "stream",
          "text": [
            "              precision    recall  f1-score   support\n",
            "\n",
            "           0       0.84      0.85      0.85      1502\n",
            "           1       0.54      0.53      0.54       499\n",
            "\n",
            "    accuracy                           0.77      2001\n",
            "   macro avg       0.69      0.69      0.69      2001\n",
            "weighted avg       0.77      0.77      0.77      2001\n",
            "\n",
            "              precision    recall  f1-score   support\n",
            "\n",
            "           0       0.85      0.83      0.84      1515\n",
            "           1       0.51      0.54      0.53       485\n",
            "\n",
            "    accuracy                           0.76      2000\n",
            "   macro avg       0.68      0.69      0.68      2000\n",
            "weighted avg       0.77      0.76      0.76      2000\n",
            "\n",
            "              precision    recall  f1-score   support\n",
            "\n",
            "           0       0.84      0.85      0.85      1529\n",
            "           1       0.50      0.49      0.50       471\n",
            "\n",
            "    accuracy                           0.77      2000\n",
            "   macro avg       0.67      0.67      0.67      2000\n",
            "weighted avg       0.76      0.77      0.77      2000\n",
            "\n",
            "              precision    recall  f1-score   support\n",
            "\n",
            "           0       0.87      0.85      0.86      1542\n",
            "           1       0.52      0.57      0.54       458\n",
            "\n",
            "    accuracy                           0.78      2000\n",
            "   macro avg       0.70      0.71      0.70      2000\n",
            "weighted avg       0.79      0.78      0.79      2000\n",
            "\n",
            "              precision    recall  f1-score   support\n",
            "\n",
            "           0       0.85      0.86      0.85      1534\n",
            "           1       0.52      0.51      0.51       466\n",
            "\n",
            "    accuracy                           0.78      2000\n",
            "   macro avg       0.69      0.68      0.68      2000\n",
            "weighted avg       0.77      0.78      0.78      2000\n",
            "\n"
          ],
          "name": "stdout"
        }
      ]
    },
    {
      "cell_type": "markdown",
      "metadata": {
        "id": "D_lQ5avRpiAZ"
      },
      "source": [
        "## Extra Stuff I'm Doing For Fun"
      ]
    },
    {
      "cell_type": "code",
      "metadata": {
        "id": "V0TsNxg8msX1"
      },
      "source": [
        "from sklearn.metrics import classification_report"
      ],
      "execution_count": null,
      "outputs": []
    },
    {
      "cell_type": "code",
      "metadata": {
        "id": "9Xy612ATmvg6"
      },
      "source": [
        "from sklearn.naive_bayes import GaussianNB"
      ],
      "execution_count": null,
      "outputs": []
    },
    {
      "cell_type": "code",
      "metadata": {
        "id": "XwX9iadNmzI9",
        "colab": {
          "base_uri": "https://localhost:8080/"
        },
        "outputId": "d4951081-40b6-4cfc-9621-92941c20a4ba"
      },
      "source": [
        "model=GaussianNB()\n",
        "model.fit(X_train,y_train[:,0])"
      ],
      "execution_count": null,
      "outputs": [
        {
          "output_type": "execute_result",
          "data": {
            "text/plain": [
              "GaussianNB(priors=None, var_smoothing=1e-09)"
            ]
          },
          "metadata": {
            "tags": []
          },
          "execution_count": 143
        }
      ]
    },
    {
      "cell_type": "code",
      "metadata": {
        "id": "slRTaXfZnLSH"
      },
      "source": [
        "from sklearn.metrics import accuracy_score"
      ],
      "execution_count": null,
      "outputs": []
    },
    {
      "cell_type": "code",
      "metadata": {
        "id": "M691V6fwnLRB",
        "colab": {
          "base_uri": "https://localhost:8080/"
        },
        "outputId": "7221a0f6-788b-43a0-ac24-83ca827642ed"
      },
      "source": [
        "accuracy_score(y_test,model.predict(X_test))"
      ],
      "execution_count": null,
      "outputs": [
        {
          "output_type": "execute_result",
          "data": {
            "text/plain": [
              "0.7525"
            ]
          },
          "metadata": {
            "tags": []
          },
          "execution_count": 145
        }
      ]
    },
    {
      "cell_type": "code",
      "metadata": {
        "id": "WObLdNT1nc9E"
      },
      "source": [
        "from sklearn impot linear_model\n",
        "from sklearn.metrics import mean_squared_error, r2_score"
      ],
      "execution_count": null,
      "outputs": []
    },
    {
      "cell_type": "code",
      "metadata": {
        "id": "X3-FEb6-nmRy"
      },
      "source": [
        "X = data[['marital-status-code','workclass-code','education-code','occupation-code','relationship-code','race-code','sex-code','native-country-code','income-code']].values\n",
        "y = data[[hours-per-week]].values"
      ],
      "execution_count": null,
      "outputs": []
    },
    {
      "cell_type": "code",
      "metadata": {
        "id": "K33EUL6On48q"
      },
      "source": [
        "X_train, X_test, y_train, y_test = train_test_split(X,y,random_state=42)"
      ],
      "execution_count": null,
      "outputs": []
    }
  ]
}
