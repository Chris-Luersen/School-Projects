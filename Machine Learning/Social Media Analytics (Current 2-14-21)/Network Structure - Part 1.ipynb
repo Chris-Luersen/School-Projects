{
 "cells": [
  {
   "cell_type": "code",
   "execution_count": 3,
   "metadata": {},
   "outputs": [],
   "source": [
    "%matplotlib inline\n",
    "import networkx as nx\n",
    "import itertools as itools\n",
    "import matplotlib.pyplot as plt"
   ]
  },
  {
   "cell_type": "code",
   "execution_count": 4,
   "metadata": {},
   "outputs": [
    {
     "data": {
      "image/png": "[encoded data removed]",
      "text/plain": [
       "<Figure size 432x288 with 1 Axes>"
      ]
     },
     "metadata": {},
     "output_type": "display_data"
    }
   ],
   "source": [
    "g = nx.Graph()\n",
    "g.add_nodes_from([\"A\", \"B\", \"D\", \"C\", \"E\"])\n",
    "g.add_edges_from([(\"A\", \"B\"), (\"D\", \"C\"), (\"A\", \"E\"), (\"C\", \"E\")])\n",
    "nx.draw(g)"
   ]
  },
  {
   "cell_type": "code",
   "execution_count": 5,
   "metadata": {},
   "outputs": [
    {
     "data": {
      "image/png": "[encoded data removed]",
      "text/plain": [
       "<Figure size 432x288 with 1 Axes>"
      ]
     },
     "metadata": {},
     "output_type": "display_data"
    }
   ],
   "source": [
    "B = nx.Graph()\n",
    "B.add_nodes_from([1, 2, 3, 4], bipartite=0)\n",
    "B.add_nodes_from(['a', 'b', 'c'], bipartite=1)\n",
    "B.add_edges_from([(1, 'a'), (1, 'b'), (2, 'b'), (2, 'c'), (3, 'c'), (4, 'a')])\n",
    "# This line splits the node lists into two sets and selects the second set as the left hand side\n",
    "# this only affects layout I could have easily selected the first set\n",
    "top = nx.bipartite.sets(B)[1]\n",
    "nx.draw(B, nx.bipartite_layout(B, top))"
   ]
  },
  {
   "cell_type": "code",
   "execution_count": 4,
   "metadata": {},
   "outputs": [
    {
     "name": "stdout",
     "output_type": "stream",
     "text": [
      "[(1, 2), (1, 4), (2, 1), (2, 3), (3, 2), (4, 1)]\n",
      "[(1, 2), (1, 4), (2, 1), (2, 3), (3, 2), (4, 1)]\n"
     ]
    }
   ],
   "source": [
    "prj_graph = nx.projected_graph(B, [1, 2, 3, 4])\n",
    "\n",
    "adj_list = []\n",
    "for n, nbrs in prj_graph.adj.items():\n",
    "    for nbr, eattr in nbrs.items():\n",
    "        adj_list += [(n, nbr)]\n",
    "print(adj_list)\n",
    "\n",
    "# or if your comfortable with complex list-comprehensions:\n",
    "adj_list = [(n,nbr) for n, nbrs in prj_graph.adj.items()\n",
    "                    for nbr, eattr in nbrs.items()]\n",
    "print(adj_list)"
   ]
  },
  {
   "cell_type": "code",
   "execution_count": 5,
   "metadata": {},
   "outputs": [
    {
     "data": {
      "text/plain": [
       "matrix([[0, 1, 0, 1],\n",
       "        [1, 0, 1, 0],\n",
       "        [0, 1, 0, 0],\n",
       "        [1, 0, 0, 0]], dtype=int64)"
      ]
     },
     "execution_count": 5,
     "metadata": {},
     "output_type": "execute_result"
    }
   ],
   "source": [
    "nx.adjacency_matrix(prj_graph).todense()  # To dense simplifies printing but the adjacency matrix is by default sparse"
   ]
  },
  {
   "cell_type": "code",
   "execution_count": 6,
   "metadata": {},
   "outputs": [
    {
     "name": "stdout",
     "output_type": "stream",
     "text": [
      "[(0, 0), (1, 0), (2, 0), (3, 0), (4, 0), (5, 0), (6, 4), (7, 0), (8, 0), (9, 1), (10, 0), (11, 0), (12, 1), (13, 1), (14, 2), (15, 0), (16, 1), (17, 0), (18, 0), (19, 1)]\n"
     ]
    }
   ],
   "source": [
    "# These are randoms graphs so output will change on successive runs and may not match exactly what's in the slides\n",
    "\n",
    "G = nx.gnp_random_graph(20, 0.02, directed=True)\n",
    "print(G.in_degree())"
   ]
  },
  {
   "cell_type": "code",
   "execution_count": 7,
   "metadata": {},
   "outputs": [
    {
     "name": "stdout",
     "output_type": "stream",
     "text": [
      "[(0, 1), (1, 0), (2, 0), (3, 0), (4, 2), (5, 0), (6, 1), (7, 1), (8, 0), (9, 0), (10, 1), (11, 1), (12, 0), (13, 0), (14, 1), (15, 0), (16, 1), (17, 2), (18, 0), (19, 0)]\n"
     ]
    }
   ],
   "source": [
    "print(G.out_degree())"
   ]
  },
  {
   "cell_type": "code",
   "execution_count": 8,
   "metadata": {},
   "outputs": [
    {
     "data": {
      "text/plain": [
       "Text(0.5, 0, 'rank')"
      ]
     },
     "execution_count": 8,
     "metadata": {},
     "output_type": "execute_result"
    },
    {
     "data": {
      "image/png": "[encoded data removed]",
      "text/plain": [
       "<Figure size 432x288 with 1 Axes>"
      ]
     },
     "metadata": {
      "needs_background": "light"
     },
     "output_type": "display_data"
    }
   ],
   "source": [
    "G = nx.gnp_random_graph(50, 0.02, directed=False)\n",
    "degree_sequence = sorted(dict(G.degree()).values(), reverse=True)\n",
    "plt.loglog(degree_sequence,'b-',marker='o')\n",
    "plt.title('Degree rank plot')\n",
    "plt.ylabel('degree')\n",
    "plt.xlabel('rank')"
   ]
  },
  {
   "cell_type": "code",
   "execution_count": 9,
   "metadata": {},
   "outputs": [
    {
     "name": "stdout",
     "output_type": "stream",
     "text": [
      "[[17], [38], [45], [47], [34], [0, 1, 2, 3, 4, 5, 6, 7, 8, 9, 11, 12, 13, 14, 15, 16, 18, 19, 20, 21, 22, 23, 24, 25, 26, 27, 28, 29, 30, 31, 32, 33, 35, 36, 37, 39, 40, 41, 42, 43, 44, 46, 48, 49], [10]]\n"
     ]
    }
   ],
   "source": [
    "G = nx.gnp_random_graph(50,0.06,directed=True)\n",
    "sg = nx.strongly_connected_components(G)\n",
    "print([list(l) for l in sg])"
   ]
  },
  {
   "cell_type": "code",
   "execution_count": 10,
   "metadata": {},
   "outputs": [
    {
     "name": "stdout",
     "output_type": "stream",
     "text": [
      "[[0, 1, 2, 3, 4, 5, 6, 7, 8, 9, 10, 11, 12, 13, 14, 15, 16, 17, 18, 19, 20, 21, 22, 23, 24, 25, 26, 27, 28, 29, 30, 31, 32, 33, 34, 35, 36, 37, 38, 39, 40, 41, 42, 43, 44, 45, 46, 47, 48, 49]]\n"
     ]
    }
   ],
   "source": [
    "sg = nx.weakly_connected_components(G)\n",
    "print([list(l) for l in sg])"
   ]
  },
  {
   "cell_type": "code",
   "execution_count": 11,
   "metadata": {},
   "outputs": [
    {
     "data": {
      "text/plain": [
       "[1, 37, 8, 42, 21, 9]"
      ]
     },
     "execution_count": 11,
     "metadata": {},
     "output_type": "execute_result"
    }
   ],
   "source": [
    "nx.shortest_path(G, 1, 9)"
   ]
  },
  {
   "cell_type": "code",
   "execution_count": 12,
   "metadata": {},
   "outputs": [
    {
     "data": {
      "text/plain": [
       "0.05755102040816327"
      ]
     },
     "execution_count": 12,
     "metadata": {},
     "output_type": "execute_result"
    }
   ],
   "source": [
    "nx.density(G)"
   ]
  }
 ],
 "metadata": {
  "kernelspec": {
   "display_name": "Python 3",
   "language": "python",
   "name": "python3"
  },
  "language_info": {
   "codemirror_mode": {
    "name": "ipython",
    "version": 3
   },
   "file_extension": ".py",
   "mimetype": "text/x-python",
   "name": "python",
   "nbconvert_exporter": "python",
   "pygments_lexer": "ipython3",
   "version": "3.8.5"
  }
 },
 "nbformat": 4,
 "nbformat_minor": 2
}
